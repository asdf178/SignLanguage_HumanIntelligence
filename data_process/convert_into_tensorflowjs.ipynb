{
 "cells": [
  {
   "cell_type": "code",
   "execution_count": 1,
   "id": "93d125e3",
   "metadata": {},
   "outputs": [
    {
     "name": "stdout",
     "output_type": "stream",
     "text": [
      "Requirement already satisfied: tensorflowjs in c:\\users\\k\\anaconda3\\lib\\site-packages (3.21.0)\n",
      "Requirement already satisfied: flax>=0.5.3 in c:\\users\\k\\anaconda3\\lib\\site-packages (from tensorflowjs) (0.7.2)\n",
      "Requirement already satisfied: importlib_resources>=5.9.0 in c:\\users\\k\\anaconda3\\lib\\site-packages (from tensorflowjs) (6.0.1)\n",
      "Requirement already satisfied: jax>=0.3.16 in c:\\users\\k\\anaconda3\\lib\\site-packages (from tensorflowjs) (0.4.14)\n",
      "Requirement already satisfied: protobuf<3.20,>=3.9.2 in c:\\users\\k\\anaconda3\\lib\\site-packages (from tensorflowjs) (3.19.6)\n",
      "Requirement already satisfied: tensorflow<3,>=2.1.0 in c:\\users\\k\\anaconda3\\lib\\site-packages (from tensorflowjs) (2.11.1)\n",
      "Requirement already satisfied: six<2,>=1.12.0 in c:\\users\\k\\anaconda3\\lib\\site-packages (from tensorflowjs) (1.16.0)\n",
      "Requirement already satisfied: tensorflow-hub<0.13,>=0.7.0 in c:\\users\\k\\anaconda3\\lib\\site-packages (from tensorflowjs) (0.12.0)\n",
      "Requirement already satisfied: packaging~=20.9 in c:\\users\\k\\anaconda3\\lib\\site-packages (from tensorflowjs) (20.9)\n",
      "Requirement already satisfied: numpy>=1.12 in c:\\users\\k\\anaconda3\\lib\\site-packages (from flax>=0.5.3->tensorflowjs) (1.22.4)\n",
      "Requirement already satisfied: msgpack in c:\\users\\k\\anaconda3\\lib\\site-packages (from flax>=0.5.3->tensorflowjs) (1.0.2)\n",
      "Requirement already satisfied: optax in c:\\users\\k\\anaconda3\\lib\\site-packages (from flax>=0.5.3->tensorflowjs) (0.1.7)\n",
      "Requirement already satisfied: orbax-checkpoint in c:\\users\\k\\anaconda3\\lib\\site-packages (from flax>=0.5.3->tensorflowjs) (0.3.2)\n",
      "Requirement already satisfied: tensorstore in c:\\users\\k\\anaconda3\\lib\\site-packages (from flax>=0.5.3->tensorflowjs) (0.1.41)\n"
     ]
    },
    {
     "name": "stderr",
     "output_type": "stream",
     "text": [
      "WARNING: Ignoring invalid distribution -rotobuf (c:\\users\\k\\anaconda3\\lib\\site-packages)"
     ]
    },
    {
     "name": "stdout",
     "output_type": "stream",
     "text": [
      "Requirement already satisfied: rich>=11.1 in c:\\users\\k\\anaconda3\\lib\\site-packages (from flax>=0.5.3->tensorflowjs) (13.5.2)\n",
      "Requirement already satisfied: typing-extensions>=4.1.1 in c:\\users\\k\\anaconda3\\lib\\site-packages (from flax>=0.5.3->tensorflowjs) (4.7.1)\n",
      "Requirement already satisfied: PyYAML>=5.4.1 in c:\\users\\k\\anaconda3\\lib\\site-packages (from flax>=0.5.3->tensorflowjs) (6.0)\n",
      "Requirement already satisfied: zipp>=3.1.0 in c:\\users\\k\\anaconda3\\lib\\site-packages (from importlib_resources>=5.9.0->tensorflowjs) (3.7.0)\n",
      "Requirement already satisfied: ml-dtypes>=0.2.0 in c:\\users\\k\\anaconda3\\lib\\site-packages (from jax>=0.3.16->tensorflowjs) (0.2.0)\n",
      "Requirement already satisfied: opt-einsum in c:\\users\\k\\anaconda3\\lib\\site-packages (from jax>=0.3.16->tensorflowjs) (3.3.0)\n",
      "Requirement already satisfied: scipy>=1.7 in c:\\users\\k\\anaconda3\\lib\\site-packages (from jax>=0.3.16->tensorflowjs) (1.7.3)\n",
      "Requirement already satisfied: importlib-metadata>=4.6 in c:\\users\\k\\anaconda3\\lib\\site-packages (from jax>=0.3.16->tensorflowjs) (4.11.3)\n",
      "Requirement already satisfied: pyparsing>=2.0.2 in c:\\users\\k\\anaconda3\\lib\\site-packages (from packaging~=20.9->tensorflowjs) (3.0.4)\n",
      "Requirement already satisfied: tensorflow-intel==2.11.1 in c:\\users\\k\\anaconda3\\lib\\site-packages (from tensorflow<3,>=2.1.0->tensorflowjs) (2.11.1)\n",
      "Requirement already satisfied: absl-py>=1.0.0 in c:\\users\\k\\anaconda3\\lib\\site-packages (from tensorflow-intel==2.11.1->tensorflow<3,>=2.1.0->tensorflowjs) (1.2.0)\n",
      "Requirement already satisfied: astunparse>=1.6.0 in c:\\users\\k\\anaconda3\\lib\\site-packages (from tensorflow-intel==2.11.1->tensorflow<3,>=2.1.0->tensorflowjs) (1.6.3)\n",
      "Requirement already satisfied: flatbuffers>=2.0 in c:\\users\\k\\anaconda3\\lib\\site-packages (from tensorflow-intel==2.11.1->tensorflow<3,>=2.1.0->tensorflowjs) (23.5.9)\n",
      "Requirement already satisfied: gast<=0.4.0,>=0.2.1 in c:\\users\\k\\anaconda3\\lib\\site-packages (from tensorflow-intel==2.11.1->tensorflow<3,>=2.1.0->tensorflowjs) (0.4.0)\n",
      "Requirement already satisfied: google-pasta>=0.1.1 in c:\\users\\k\\anaconda3\\lib\\site-packages (from tensorflow-intel==2.11.1->tensorflow<3,>=2.1.0->tensorflowjs) (0.2.0)\n",
      "Requirement already satisfied: h5py>=2.9.0 in c:\\users\\k\\anaconda3\\lib\\site-packages (from tensorflow-intel==2.11.1->tensorflow<3,>=2.1.0->tensorflowjs) (3.6.0)\n",
      "Requirement already satisfied: libclang>=13.0.0 in c:\\users\\k\\anaconda3\\lib\\site-packages (from tensorflow-intel==2.11.1->tensorflow<3,>=2.1.0->tensorflowjs) (16.0.0)\n",
      "Requirement already satisfied: setuptools in c:\\users\\k\\anaconda3\\lib\\site-packages (from tensorflow-intel==2.11.1->tensorflow<3,>=2.1.0->tensorflowjs) (67.7.2)\n",
      "Requirement already satisfied: termcolor>=1.1.0 in c:\\users\\k\\anaconda3\\lib\\site-packages (from tensorflow-intel==2.11.1->tensorflow<3,>=2.1.0->tensorflowjs) (2.3.0)\n",
      "Requirement already satisfied: wrapt>=1.11.0 in c:\\users\\k\\anaconda3\\lib\\site-packages (from tensorflow-intel==2.11.1->tensorflow<3,>=2.1.0->tensorflowjs) (1.12.1)\n",
      "Requirement already satisfied: grpcio<2.0,>=1.24.3 in c:\\users\\k\\anaconda3\\lib\\site-packages (from tensorflow-intel==2.11.1->tensorflow<3,>=2.1.0->tensorflowjs) (1.54.0)\n",
      "Requirement already satisfied: tensorboard<2.12,>=2.11 in c:\\users\\k\\anaconda3\\lib\\site-packages (from tensorflow-intel==2.11.1->tensorflow<3,>=2.1.0->tensorflowjs) (2.11.2)\n",
      "Requirement already satisfied: tensorflow-estimator<2.12,>=2.11.0 in c:\\users\\k\\anaconda3\\lib\\site-packages (from tensorflow-intel==2.11.1->tensorflow<3,>=2.1.0->tensorflowjs) (2.11.0)\n",
      "Requirement already satisfied: keras<2.12,>=2.11.0 in c:\\users\\k\\anaconda3\\lib\\site-packages (from tensorflow-intel==2.11.1->tensorflow<3,>=2.1.0->tensorflowjs) (2.11.0)\n",
      "Requirement already satisfied: tensorflow-io-gcs-filesystem>=0.23.1 in c:\\users\\k\\anaconda3\\lib\\site-packages (from tensorflow-intel==2.11.1->tensorflow<3,>=2.1.0->tensorflowjs) (0.31.0)\n",
      "Requirement already satisfied: markdown-it-py>=2.2.0 in c:\\users\\k\\anaconda3\\lib\\site-packages (from rich>=11.1->flax>=0.5.3->tensorflowjs) (3.0.0)\n",
      "Requirement already satisfied: pygments<3.0.0,>=2.13.0 in c:\\users\\k\\anaconda3\\lib\\site-packages (from rich>=11.1->flax>=0.5.3->tensorflowjs) (2.16.1)\n",
      "Requirement already satisfied: chex>=0.1.5 in c:\\users\\k\\anaconda3\\lib\\site-packages (from optax->flax>=0.5.3->tensorflowjs) (0.1.7)\n",
      "Requirement already satisfied: jaxlib>=0.1.37 in c:\\users\\k\\anaconda3\\lib\\site-packages (from optax->flax>=0.5.3->tensorflowjs) (0.4.14)\n",
      "Requirement already satisfied: etils[epath,epy] in c:\\users\\k\\anaconda3\\lib\\site-packages (from orbax-checkpoint->flax>=0.5.3->tensorflowjs) (1.4.1)\n",
      "Requirement already satisfied: nest_asyncio in c:\\users\\k\\anaconda3\\lib\\site-packages (from orbax-checkpoint->flax>=0.5.3->tensorflowjs) (1.5.5)\n",
      "Requirement already satisfied: wheel<1.0,>=0.23.0 in c:\\users\\k\\anaconda3\\lib\\site-packages (from astunparse>=1.6.0->tensorflow-intel==2.11.1->tensorflow<3,>=2.1.0->tensorflowjs) (0.37.1)\n",
      "Requirement already satisfied: dm-tree>=0.1.5 in c:\\users\\k\\anaconda3\\lib\\site-packages (from chex>=0.1.5->optax->flax>=0.5.3->tensorflowjs) (0.1.8)\n",
      "Requirement already satisfied: toolz>=0.9.0 in c:\\users\\k\\anaconda3\\lib\\site-packages (from chex>=0.1.5->optax->flax>=0.5.3->tensorflowjs) (0.11.2)\n",
      "Requirement already satisfied: mdurl~=0.1 in c:\\users\\k\\anaconda3\\lib\\site-packages (from markdown-it-py>=2.2.0->rich>=11.1->flax>=0.5.3->tensorflowjs) (0.1.2)\n",
      "Requirement already satisfied: google-auth<3,>=1.6.3 in c:\\users\\k\\anaconda3\\lib\\site-packages (from tensorboard<2.12,>=2.11->tensorflow-intel==2.11.1->tensorflow<3,>=2.1.0->tensorflowjs) (2.18.0)\n",
      "Requirement already satisfied: google-auth-oauthlib<0.5,>=0.4.1 in c:\\users\\k\\anaconda3\\lib\\site-packages (from tensorboard<2.12,>=2.11->tensorflow-intel==2.11.1->tensorflow<3,>=2.1.0->tensorflowjs) (0.4.6)\n",
      "Requirement already satisfied: markdown>=2.6.8 in c:\\users\\k\\anaconda3\\lib\\site-packages (from tensorboard<2.12,>=2.11->tensorflow-intel==2.11.1->tensorflow<3,>=2.1.0->tensorflowjs) (3.3.4)\n",
      "Requirement already satisfied: requests<3,>=2.21.0 in c:\\users\\k\\anaconda3\\lib\\site-packages (from tensorboard<2.12,>=2.11->tensorflow-intel==2.11.1->tensorflow<3,>=2.1.0->tensorflowjs) (2.27.1)\n",
      "Requirement already satisfied: tensorboard-data-server<0.7.0,>=0.6.0 in c:\\users\\k\\anaconda3\\lib\\site-packages (from tensorboard<2.12,>=2.11->tensorflow-intel==2.11.1->tensorflow<3,>=2.1.0->tensorflowjs) (0.6.1)\n",
      "Requirement already satisfied: tensorboard-plugin-wit>=1.6.0 in c:\\users\\k\\anaconda3\\lib\\site-packages (from tensorboard<2.12,>=2.11->tensorflow-intel==2.11.1->tensorflow<3,>=2.1.0->tensorflowjs) (1.8.1)\n",
      "Requirement already satisfied: werkzeug>=1.0.1 in c:\\users\\k\\anaconda3\\lib\\site-packages (from tensorboard<2.12,>=2.11->tensorflow-intel==2.11.1->tensorflow<3,>=2.1.0->tensorflowjs) (2.0.3)\n",
      "Requirement already satisfied: cachetools<6.0,>=2.0.0 in c:\\users\\k\\anaconda3\\lib\\site-packages (from google-auth<3,>=1.6.3->tensorboard<2.12,>=2.11->tensorflow-intel==2.11.1->tensorflow<3,>=2.1.0->tensorflowjs) (4.2.2)\n",
      "Requirement already satisfied: pyasn1-modules>=0.2.1 in c:\\users\\k\\anaconda3\\lib\\site-packages (from google-auth<3,>=1.6.3->tensorboard<2.12,>=2.11->tensorflow-intel==2.11.1->tensorflow<3,>=2.1.0->tensorflowjs) (0.2.8)\n",
      "Requirement already satisfied: urllib3<2.0 in c:\\users\\k\\anaconda3\\lib\\site-packages (from google-auth<3,>=1.6.3->tensorboard<2.12,>=2.11->tensorflow-intel==2.11.1->tensorflow<3,>=2.1.0->tensorflowjs) (1.26.9)\n",
      "Requirement already satisfied: rsa<5,>=3.1.4 in c:\\users\\k\\anaconda3\\lib\\site-packages (from google-auth<3,>=1.6.3->tensorboard<2.12,>=2.11->tensorflow-intel==2.11.1->tensorflow<3,>=2.1.0->tensorflowjs) (4.7.2)\n",
      "Requirement already satisfied: requests-oauthlib>=0.7.0 in c:\\users\\k\\anaconda3\\lib\\site-packages (from google-auth-oauthlib<0.5,>=0.4.1->tensorboard<2.12,>=2.11->tensorflow-intel==2.11.1->tensorflow<3,>=2.1.0->tensorflowjs) (1.3.1)\n",
      "Requirement already satisfied: certifi>=2017.4.17 in c:\\users\\k\\anaconda3\\lib\\site-packages (from requests<3,>=2.21.0->tensorboard<2.12,>=2.11->tensorflow-intel==2.11.1->tensorflow<3,>=2.1.0->tensorflowjs) (2021.10.8)\n",
      "Requirement already satisfied: charset-normalizer~=2.0.0 in c:\\users\\k\\anaconda3\\lib\\site-packages (from requests<3,>=2.21.0->tensorboard<2.12,>=2.11->tensorflow-intel==2.11.1->tensorflow<3,>=2.1.0->tensorflowjs) (2.0.4)\n",
      "Requirement already satisfied: idna<4,>=2.5 in c:\\users\\k\\anaconda3\\lib\\site-packages (from requests<3,>=2.21.0->tensorboard<2.12,>=2.11->tensorflow-intel==2.11.1->tensorflow<3,>=2.1.0->tensorflowjs) (3.3)\n",
      "Requirement already satisfied: pyasn1<0.5.0,>=0.4.6 in c:\\users\\k\\anaconda3\\lib\\site-packages (from pyasn1-modules>=0.2.1->google-auth<3,>=1.6.3->tensorboard<2.12,>=2.11->tensorflow-intel==2.11.1->tensorflow<3,>=2.1.0->tensorflowjs) (0.4.8)\n",
      "Requirement already satisfied: oauthlib>=3.0.0 in c:\\users\\k\\anaconda3\\lib\\site-packages (from requests-oauthlib>=0.7.0->google-auth-oauthlib<0.5,>=0.4.1->tensorboard<2.12,>=2.11->tensorflow-intel==2.11.1->tensorflow<3,>=2.1.0->tensorflowjs) (3.2.2)\n"
     ]
    },
    {
     "name": "stderr",
     "output_type": "stream",
     "text": [
      "\n",
      "WARNING: Ignoring invalid distribution -rotobuf (c:\\users\\k\\anaconda3\\lib\\site-packages)\n",
      "\n",
      "[notice] A new release of pip is available: 23.1.2 -> 23.2.1\n",
      "[notice] To update, run: python.exe -m pip install --upgrade pip\n"
     ]
    }
   ],
   "source": [
    "!pip install tensorflowjs"
   ]
  },
  {
   "cell_type": "code",
   "execution_count": 2,
   "id": "263221d0",
   "metadata": {},
   "outputs": [
    {
     "name": "stdout",
     "output_type": "stream",
     "text": [
      "Requirement already satisfied: jax in c:\\users\\k\\anaconda3\\lib\\site-packages (0.4.14)\n",
      "Requirement already satisfied: jaxlib in c:\\users\\k\\anaconda3\\lib\\site-packages (0.4.14)\n",
      "Requirement already satisfied: ml-dtypes>=0.2.0 in c:\\users\\k\\anaconda3\\lib\\site-packages (from jax) (0.2.0)\n",
      "Requirement already satisfied: numpy>=1.22 in c:\\users\\k\\anaconda3\\lib\\site-packages (from jax) (1.22.4)\n",
      "Requirement already satisfied: opt-einsum in c:\\users\\k\\anaconda3\\lib\\site-packages (from jax) (3.3.0)\n",
      "Requirement already satisfied: scipy>=1.7 in c:\\users\\k\\anaconda3\\lib\\site-packages (from jax) (1.7.3)\n",
      "Requirement already satisfied: importlib-metadata>=4.6 in c:\\users\\k\\anaconda3\\lib\\site-packages (from jax) (4.11.3)\n",
      "Requirement already satisfied: zipp>=0.5 in c:\\users\\k\\anaconda3\\lib\\site-packages (from importlib-metadata>=4.6->jax) (3.7.0)\n",
      "Note: you may need to restart the kernel to use updated packages.\n"
     ]
    },
    {
     "name": "stderr",
     "output_type": "stream",
     "text": [
      "WARNING: Ignoring invalid distribution -rotobuf (c:\\users\\k\\anaconda3\\lib\\site-packages)\n",
      "WARNING: Ignoring invalid distribution -rotobuf (c:\\users\\k\\anaconda3\\lib\\site-packages)\n",
      "\n",
      "[notice] A new release of pip is available: 23.1.2 -> 23.2.1\n",
      "[notice] To update, run: python.exe -m pip install --upgrade pip\n"
     ]
    }
   ],
   "source": [
    "pip install -U jax jaxlib"
   ]
  },
  {
   "cell_type": "code",
   "execution_count": 13,
   "id": "5a325b86",
   "metadata": {},
   "outputs": [],
   "source": [
    "import cv2\n",
    "import numpy as np\n",
    "import mediapipe as mp\n",
    "import pickle\n",
    "import tensorflowjs as tfjs"
   ]
  },
  {
   "cell_type": "code",
   "execution_count": 14,
   "id": "501cb60b",
   "metadata": {},
   "outputs": [],
   "source": [
    "sequence_length = 40"
   ]
  },
  {
   "cell_type": "code",
   "execution_count": 15,
   "id": "c7e76b66",
   "metadata": {},
   "outputs": [],
   "source": [
    "actions = np.array(['angry', 'cat', 'cold', 'dog', 'good', 'happy', 'Hello', 'hot',\n",
    "       'hungry', 'Im full', 'me', 'no', 'sad', 'sorry', 'Thank you',\n",
    "       'tired', 'we', 'why', 'worry', 'you'])"
   ]
  },
  {
   "cell_type": "code",
   "execution_count": 16,
   "id": "c137bcda",
   "metadata": {},
   "outputs": [],
   "source": [
    "from tensorflow.keras.models import Sequential\n",
    "from tensorflow.keras.layers import LSTM, Dense"
   ]
  },
  {
   "cell_type": "code",
   "execution_count": 17,
   "id": "ad9a449e",
   "metadata": {},
   "outputs": [],
   "source": [
    "model = Sequential()\n",
    "model.add(LSTM(32, return_sequences=True, activation='sigmoid', input_shape=(40, 1662)))\n",
    "model.add(LSTM(64, return_sequences=True, activation='sigmoid'))\n",
    "model.add(LSTM(32, return_sequences=False, activation='sigmoid'))\n",
    "model.add(Dense(32, activation='sigmoid'))\n",
    "model.add(Dense(16, activation='sigmoid'))\n",
    "model.add(Dense(actions.shape[0], activation='softmax'))\n",
    "\n",
    "model.compile(optimizer='Adam', loss='categorical_crossentropy', metrics=['categorical_accuracy'])"
   ]
  },
  {
   "cell_type": "code",
   "execution_count": 18,
   "id": "a03dd1ea",
   "metadata": {},
   "outputs": [],
   "source": [
    "model.load_weights('sixth_trial.h5')"
   ]
  },
  {
   "cell_type": "code",
   "execution_count": 19,
   "id": "57e64cbe",
   "metadata": {},
   "outputs": [],
   "source": [
    "tfjs.converters.save_keras_model(model, 'models')"
   ]
  },
  {
   "cell_type": "code",
   "execution_count": null,
   "id": "90a46004",
   "metadata": {},
   "outputs": [],
   "source": []
  },
  {
   "cell_type": "code",
   "execution_count": null,
   "id": "0b743760",
   "metadata": {},
   "outputs": [],
   "source": []
  },
  {
   "cell_type": "code",
   "execution_count": null,
   "id": "ef9e33dc",
   "metadata": {},
   "outputs": [],
   "source": []
  },
  {
   "cell_type": "code",
   "execution_count": null,
   "id": "8bcee8b6",
   "metadata": {},
   "outputs": [],
   "source": []
  },
  {
   "cell_type": "code",
   "execution_count": null,
   "id": "6fbd5095",
   "metadata": {},
   "outputs": [],
   "source": []
  },
  {
   "cell_type": "code",
   "execution_count": null,
   "id": "93264677",
   "metadata": {},
   "outputs": [],
   "source": []
  },
  {
   "cell_type": "code",
   "execution_count": null,
   "id": "2ffa5e37",
   "metadata": {},
   "outputs": [],
   "source": []
  },
  {
   "cell_type": "code",
   "execution_count": null,
   "id": "a9ef9d81",
   "metadata": {},
   "outputs": [],
   "source": []
  }
 ],
 "metadata": {
  "kernelspec": {
   "display_name": "Python 3 (ipykernel)",
   "language": "python",
   "name": "python3"
  },
  "language_info": {
   "codemirror_mode": {
    "name": "ipython",
    "version": 3
   },
   "file_extension": ".py",
   "mimetype": "text/x-python",
   "name": "python",
   "nbconvert_exporter": "python",
   "pygments_lexer": "ipython3",
   "version": "3.9.12"
  }
 },
 "nbformat": 4,
 "nbformat_minor": 5
}
